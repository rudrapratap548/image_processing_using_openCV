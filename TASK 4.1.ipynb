{
 "cells": [
  {
   "cell_type": "code",
   "execution_count": 9,
   "id": "f9069c1e",
   "metadata": {},
   "outputs": [],
   "source": [
    "import cv2"
   ]
  },
  {
   "cell_type": "code",
   "execution_count": 10,
   "id": "513a2dbc",
   "metadata": {},
   "outputs": [],
   "source": [
    "import numpy"
   ]
  },
  {
   "cell_type": "code",
   "execution_count": 11,
   "id": "42cbb0f0",
   "metadata": {},
   "outputs": [],
   "source": [
    "image_create = numpy.zeros((460,780,4), dtype=\"uint8\")"
   ]
  },
  {
   "cell_type": "code",
   "execution_count": 13,
   "id": "e8ecafd5",
   "metadata": {},
   "outputs": [],
   "source": [
    "for i in range(0,35):\n",
    "    radius = numpy.random.randint(10,high=200)\n",
    "    color = numpy.random.randint(0,high=1010,size=(3,)).tolist()\n",
    "    pt = numpy.random.randint(10,high=4000, size=(2,))\n",
    "    cv2.circle(image_create, tuple(pt), radius , color, -1)\n",
    "    cv2.imshow(\"RUDRA PRATAP\" ,image_create)\n",
    "    cv2.waitKey()\n",
    "    cv2.destroyAllWindows()"
   ]
  },
  {
   "cell_type": "code",
   "execution_count": null,
   "id": "5a01f327",
   "metadata": {},
   "outputs": [],
   "source": []
  }
 ],
 "metadata": {
  "kernelspec": {
   "display_name": "Python 3",
   "language": "python",
   "name": "python3"
  },
  "language_info": {
   "codemirror_mode": {
    "name": "ipython",
    "version": 3
   },
   "file_extension": ".py",
   "mimetype": "text/x-python",
   "name": "python",
   "nbconvert_exporter": "python",
   "pygments_lexer": "ipython3",
   "version": "3.8.8"
  }
 },
 "nbformat": 4,
 "nbformat_minor": 5
}
