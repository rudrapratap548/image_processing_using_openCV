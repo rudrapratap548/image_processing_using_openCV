{
 "cells": [
  {
   "cell_type": "code",
   "execution_count": 1,
   "id": "bba1cc01",
   "metadata": {},
   "outputs": [],
   "source": [
    "import cv2"
   ]
  },
  {
   "cell_type": "code",
   "execution_count": 2,
   "id": "874d9bcd",
   "metadata": {},
   "outputs": [],
   "source": [
    "Capture_one = cv2.imread(\"PICTURE1.jpg\")"
   ]
  },
  {
   "cell_type": "code",
   "execution_count": 3,
   "id": "3d9b2976",
   "metadata": {},
   "outputs": [],
   "source": [
    "import numpy as np"
   ]
  },
  {
   "cell_type": "code",
   "execution_count": 4,
   "id": "d8497f3d",
   "metadata": {},
   "outputs": [],
   "source": [
    "import cv2"
   ]
  },
  {
   "cell_type": "code",
   "execution_count": 5,
   "id": "feaf863c",
   "metadata": {},
   "outputs": [],
   "source": [
    "Capture_second = cv2.imread(\"PICTURE2.jpg\")"
   ]
  },
  {
   "cell_type": "code",
   "execution_count": 6,
   "id": "8e81542c",
   "metadata": {},
   "outputs": [],
   "source": [
    "#Display both the picture"
   ]
  },
  {
   "cell_type": "code",
   "execution_count": 7,
   "id": "05b9fa5c",
   "metadata": {},
   "outputs": [],
   "source": [
    "cv2.imshow(\"PICTURE2\", Capture_second)\n",
    "cv2.imshow(\"PICTURE1\" , Capture_one)\n",
    "cv2.waitKey()\n",
    "cv2.destroyAllWindows()"
   ]
  },
  {
   "cell_type": "code",
   "execution_count": 8,
   "id": "f2fafeb1",
   "metadata": {},
   "outputs": [],
   "source": [
    "#Swap and crop Picture1 on Picture2"
   ]
  },
  {
   "cell_type": "code",
   "execution_count": 11,
   "id": "0ff5e329",
   "metadata": {},
   "outputs": [],
   "source": [
    "Capture_second = cv2.imread(\"PICTURE2.jpg\")\n",
    "Crop_Capture_second = Capture_second[100:300 ,200:400]\n",
    "Capture_one[100:300 , 200:400] = Crop_Capture_second\n",
    "cv2.imshow(\"Swaping\" , Capture_one)\n",
    "cv2.waitKey()\n",
    "cv2.destroyAllWindows()"
   ]
  },
  {
   "cell_type": "code",
   "execution_count": null,
   "id": "4772f3a7",
   "metadata": {},
   "outputs": [],
   "source": []
  }
 ],
 "metadata": {
  "kernelspec": {
   "display_name": "Python 3",
   "language": "python",
   "name": "python3"
  },
  "language_info": {
   "codemirror_mode": {
    "name": "ipython",
    "version": 3
   },
   "file_extension": ".py",
   "mimetype": "text/x-python",
   "name": "python",
   "nbconvert_exporter": "python",
   "pygments_lexer": "ipython3",
   "version": "3.8.8"
  }
 },
 "nbformat": 4,
 "nbformat_minor": 5
}
