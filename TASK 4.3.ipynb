{
 "cells": [
  {
   "cell_type": "code",
   "execution_count": 1,
   "id": "3904b1aa",
   "metadata": {},
   "outputs": [],
   "source": [
    "import cv2"
   ]
  },
  {
   "cell_type": "code",
   "execution_count": 2,
   "id": "1bfb87c2",
   "metadata": {},
   "outputs": [],
   "source": [
    "Man = cv2.imread(\"Man.jpg\")"
   ]
  },
  {
   "cell_type": "code",
   "execution_count": 3,
   "id": "a87c23ed",
   "metadata": {},
   "outputs": [
    {
     "data": {
      "text/plain": [
       "(723, 953, 3)"
      ]
     },
     "execution_count": 3,
     "metadata": {},
     "output_type": "execute_result"
    }
   ],
   "source": [
    "Man.shape"
   ]
  },
  {
   "cell_type": "code",
   "execution_count": 4,
   "id": "a78dac91",
   "metadata": {},
   "outputs": [],
   "source": [
    "Mars = cv2.imread(\"Mars.jpg\")"
   ]
  },
  {
   "cell_type": "code",
   "execution_count": 5,
   "id": "e8894a2f",
   "metadata": {},
   "outputs": [
    {
     "data": {
      "text/plain": [
       "(813, 1196, 3)"
      ]
     },
     "execution_count": 5,
     "metadata": {},
     "output_type": "execute_result"
    }
   ],
   "source": [
    "Mars.shape"
   ]
  },
  {
   "cell_type": "code",
   "execution_count": 6,
   "id": "38bb9b3b",
   "metadata": {},
   "outputs": [],
   "source": [
    "#Crop And Display First Picture"
   ]
  },
  {
   "cell_type": "code",
   "execution_count": 17,
   "id": "2238ea19",
   "metadata": {},
   "outputs": [],
   "source": [
    "Crop_Man = Man[:699 , :]\n",
    "cv2.imshow(\"Man\" , Crop_Man)\n",
    "cv2.waitKey()\n",
    "cv2.destroyAllWindows()"
   ]
  },
  {
   "cell_type": "code",
   "execution_count": 8,
   "id": "bc901e7c",
   "metadata": {},
   "outputs": [],
   "source": [
    "#Crop And Display Second Picture"
   ]
  },
  {
   "cell_type": "code",
   "execution_count": 18,
   "id": "1161151e",
   "metadata": {},
   "outputs": [],
   "source": [
    "Crop_Mars = Mars[:699 , :]\n",
    "cv2.imshow(\"Mars\" , Crop_Mars)\n",
    "cv2.waitKey()\n",
    "cv2.destroyAllWindows()"
   ]
  },
  {
   "cell_type": "code",
   "execution_count": 10,
   "id": "be4db4e6",
   "metadata": {},
   "outputs": [],
   "source": [
    "#Combine Both The Picture After Cropping"
   ]
  },
  {
   "cell_type": "code",
   "execution_count": 20,
   "id": "453628c8",
   "metadata": {},
   "outputs": [],
   "source": [
    "import numpy"
   ]
  },
  {
   "cell_type": "code",
   "execution_count": 21,
   "id": "d4e2189f",
   "metadata": {},
   "outputs": [],
   "source": [
    "Man_on_the_mars = numpy.hstack((Crop_Man, Crop_Mars))"
   ]
  },
  {
   "cell_type": "code",
   "execution_count": 13,
   "id": "045b59c3",
   "metadata": {},
   "outputs": [],
   "source": [
    "#Display Combine Picture"
   ]
  },
  {
   "cell_type": "code",
   "execution_count": 19,
   "id": "5fdb06a2",
   "metadata": {},
   "outputs": [],
   "source": [
    "cv2.imshow(\"Man_on_the_mars\" , Man_on_the_mars)\n",
    "cv2.waitKey()\n",
    "cv2.destroyAllWindows()"
   ]
  },
  {
   "cell_type": "code",
   "execution_count": null,
   "id": "2af531ea",
   "metadata": {},
   "outputs": [],
   "source": []
  }
 ],
 "metadata": {
  "kernelspec": {
   "display_name": "Python 3",
   "language": "python",
   "name": "python3"
  },
  "language_info": {
   "codemirror_mode": {
    "name": "ipython",
    "version": 3
   },
   "file_extension": ".py",
   "mimetype": "text/x-python",
   "name": "python",
   "nbconvert_exporter": "python",
   "pygments_lexer": "ipython3",
   "version": "3.8.8"
  }
 },
 "nbformat": 4,
 "nbformat_minor": 5
}
