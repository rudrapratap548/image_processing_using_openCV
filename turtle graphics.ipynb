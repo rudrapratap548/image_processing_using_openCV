{
 "cells": [
  {
   "cell_type": "code",
   "execution_count": 6,
   "id": "2f2fd3c7",
   "metadata": {},
   "outputs": [],
   "source": [
    "import turtle"
   ]
  },
  {
   "cell_type": "code",
   "execution_count": 7,
   "id": "77afe36d",
   "metadata": {},
   "outputs": [],
   "source": [
    "loadWindow = turtle.Screen()"
   ]
  },
  {
   "cell_type": "code",
   "execution_count": 3,
   "id": "7258f8d9",
   "metadata": {},
   "outputs": [],
   "source": [
    "turtle.speed(2)"
   ]
  },
  {
   "cell_type": "code",
   "execution_count": null,
   "id": "9c65592c",
   "metadata": {},
   "outputs": [],
   "source": [
    "for i in range(100):\n",
    "        turtle.circle(5*i)\n",
    "        turtle.circle(-5*i)\n",
    "        turtle.left(i)"
   ]
  },
  {
   "cell_type": "code",
   "execution_count": null,
   "id": "1d7eaa44",
   "metadata": {},
   "outputs": [],
   "source": [
    "turtle.exitonclick()"
   ]
  },
  {
   "cell_type": "code",
   "execution_count": null,
   "id": "90b4c205",
   "metadata": {},
   "outputs": [],
   "source": []
  }
 ],
 "metadata": {
  "kernelspec": {
   "display_name": "Python 3",
   "language": "python",
   "name": "python3"
  },
  "language_info": {
   "codemirror_mode": {
    "name": "ipython",
    "version": 3
   },
   "file_extension": ".py",
   "mimetype": "text/x-python",
   "name": "python",
   "nbconvert_exporter": "python",
   "pygments_lexer": "ipython3",
   "version": "3.8.8"
  }
 },
 "nbformat": 4,
 "nbformat_minor": 5
}
